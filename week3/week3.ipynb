{
  "nbformat": 4,
  "nbformat_minor": 0,
  "metadata": {
    "colab": {
      "name": "week3",
      "provenance": [],
      "collapsed_sections": []
    },
    "kernelspec": {
      "name": "python3",
      "display_name": "Python 3"
    },
    "language_info": {
      "name": "python"
    }
  },
  "cells": [
    {
      "cell_type": "markdown",
      "source": [
        "mandatory"
      ],
      "metadata": {
        "id": "1iRGiGR7qFUH"
      }
    },
    {
      "cell_type": "code",
      "source": [
        "import pandas as pd\n",
        "\n",
        "data_frame = pd.read_csv(\"/content/Salaries.csv\")\n",
        "\n",
        "print(data_frame.head())"
      ],
      "metadata": {
        "colab": {
          "base_uri": "https://localhost:8080/"
        },
        "id": "i4a2X6ZOqHjO",
        "outputId": "f79fe6c4-e518-4f2f-f09e-570c0c13f667"
      },
      "execution_count": 1,
      "outputs": [
        {
          "output_type": "stream",
          "name": "stdout",
          "text": [
            "   Id       EmployeeName                                        JobTitle  \\\n",
            "0   1     NATHANIEL FORD  GENERAL MANAGER-METROPOLITAN TRANSIT AUTHORITY   \n",
            "1   2       GARY JIMENEZ                 CAPTAIN III (POLICE DEPARTMENT)   \n",
            "2   3     ALBERT PARDINI                 CAPTAIN III (POLICE DEPARTMENT)   \n",
            "3   4  CHRISTOPHER CHONG            WIRE ROPE CABLE MAINTENANCE MECHANIC   \n",
            "4   5    PATRICK GARDNER    DEPUTY CHIEF OF DEPARTMENT,(FIRE DEPARTMENT)   \n",
            "\n",
            "     BasePay  OvertimePay   OtherPay  Benefits   TotalPay  TotalPayBenefits  \\\n",
            "0  167411.18         0.00  400184.25       NaN  567595.43         567595.43   \n",
            "1  155966.02    245131.88  137811.38       NaN  538909.28         538909.28   \n",
            "2  212739.13    106088.18   16452.60       NaN  335279.91         335279.91   \n",
            "3   77916.00     56120.71  198306.90       NaN  332343.61         332343.61   \n",
            "4  134401.60      9737.00  182234.59       NaN  326373.19         326373.19   \n",
            "\n",
            "   Year  Notes         Agency  Status  \n",
            "0  2011    NaN  San Francisco     NaN  \n",
            "1  2011    NaN  San Francisco     NaN  \n",
            "2  2011    NaN  San Francisco     NaN  \n",
            "3  2011    NaN  San Francisco     NaN  \n",
            "4  2011    NaN  San Francisco     NaN  \n"
          ]
        }
      ]
    },
    {
      "cell_type": "code",
      "source": [
        "import pandas as pd\n",
        "\n",
        "data_frame = pd.read_csv(\"/content/Salaries.csv\")\n",
        "\n",
        "data_frame.info()"
      ],
      "metadata": {
        "colab": {
          "base_uri": "https://localhost:8080/"
        },
        "id": "B2-Km8bPrAhv",
        "outputId": "c3529b09-8def-45a7-8650-8d0977bb7a30"
      },
      "execution_count": 2,
      "outputs": [
        {
          "output_type": "stream",
          "name": "stdout",
          "text": [
            "<class 'pandas.core.frame.DataFrame'>\n",
            "RangeIndex: 148654 entries, 0 to 148653\n",
            "Data columns (total 13 columns):\n",
            " #   Column            Non-Null Count   Dtype  \n",
            "---  ------            --------------   -----  \n",
            " 0   Id                148654 non-null  int64  \n",
            " 1   EmployeeName      148654 non-null  object \n",
            " 2   JobTitle          148654 non-null  object \n",
            " 3   BasePay           148045 non-null  float64\n",
            " 4   OvertimePay       148650 non-null  float64\n",
            " 5   OtherPay          148650 non-null  float64\n",
            " 6   Benefits          112491 non-null  float64\n",
            " 7   TotalPay          148654 non-null  float64\n",
            " 8   TotalPayBenefits  148654 non-null  float64\n",
            " 9   Year              148654 non-null  int64  \n",
            " 10  Notes             0 non-null       float64\n",
            " 11  Agency            148654 non-null  object \n",
            " 12  Status            0 non-null       float64\n",
            "dtypes: float64(8), int64(2), object(3)\n",
            "memory usage: 14.7+ MB\n"
          ]
        }
      ]
    },
    {
      "cell_type": "code",
      "source": [
        "import pandas as pd\n",
        "\n",
        "data_frame = pd.read_csv(\"/content/Salaries.csv\")\n",
        "\n",
        "print(data_frame[\"OvertimePay\"].max())"
      ],
      "metadata": {
        "colab": {
          "base_uri": "https://localhost:8080/"
        },
        "id": "pyVjdwqSrH7p",
        "outputId": "ba1ce266-858d-4370-f574-2b6d54e44493"
      },
      "execution_count": 3,
      "outputs": [
        {
          "output_type": "stream",
          "name": "stdout",
          "text": [
            "245131.88\n"
          ]
        }
      ]
    },
    {
      "cell_type": "code",
      "source": [
        "import pandas as pd\n",
        "\n",
        "data_frame = pd.read_csv(\"/content/Salaries.csv\")\n",
        "\n",
        "print(data_frame[data_frame[\"EmployeeName\"]==\"JOSEPH DRISCOLL\"][\"JobTitle\"].iloc[0])"
      ],
      "metadata": {
        "colab": {
          "base_uri": "https://localhost:8080/"
        },
        "id": "OJtNJv5yrQb5",
        "outputId": "2fd869d5-15a5-4d12-d4f8-80347536fcb3"
      },
      "execution_count": 5,
      "outputs": [
        {
          "output_type": "stream",
          "name": "stdout",
          "text": [
            "CAPTAIN, FIRE SUPPRESSION\n"
          ]
        }
      ]
    },
    {
      "cell_type": "code",
      "source": [
        "import pandas as pd\n",
        "\n",
        "data_frame = pd.read_csv(\"/content/Salaries.csv\")\n",
        "\n",
        "print(data_frame[data_frame[\"EmployeeName\"]==\"JOSEPH DRISCOLL\"][\"TotalPayBenefits\"].iloc[0])"
      ],
      "metadata": {
        "colab": {
          "base_uri": "https://localhost:8080/"
        },
        "id": "3hn-fcvMrYkq",
        "outputId": "caf2ff18-fefd-4864-c24f-6da8261d74e2"
      },
      "execution_count": 6,
      "outputs": [
        {
          "output_type": "stream",
          "name": "stdout",
          "text": [
            "270324.91\n"
          ]
        }
      ]
    },
    {
      "cell_type": "code",
      "source": [
        "import pandas as pd\n",
        "\n",
        "data_frame = pd.read_csv(\"/content/Salaries.csv\")\n",
        "\n",
        "max_pay = data_frame[\"TotalPayBenefits\"].max()\n",
        "print(data_frame[data_frame[\"TotalPayBenefits\"]==max_pay][\"EmployeeName\"].iloc[0])"
      ],
      "metadata": {
        "colab": {
          "base_uri": "https://localhost:8080/"
        },
        "id": "HrjxRHSVrjI6",
        "outputId": "0ce09267-d9c9-4d1e-a299-645dc8b83e83"
      },
      "execution_count": 7,
      "outputs": [
        {
          "output_type": "stream",
          "name": "stdout",
          "text": [
            "NATHANIEL FORD\n"
          ]
        }
      ]
    },
    {
      "cell_type": "code",
      "source": [
        "import pandas as pd\n",
        "\n",
        "data_frame = pd.read_csv(\"/content/Salaries.csv\")\n",
        "\n",
        "min_pay = data_frame[\"TotalPayBenefits\"].min()\n",
        "print(min_pay)\n",
        "print(data_frame[data_frame[\"TotalPayBenefits\"]==min_pay][\"EmployeeName\"].iloc[0])"
      ],
      "metadata": {
        "colab": {
          "base_uri": "https://localhost:8080/"
        },
        "id": "PevRvEmIrpGW",
        "outputId": "66b42644-e81a-4d04-86af-08fcf3eeb1db"
      },
      "execution_count": 8,
      "outputs": [
        {
          "output_type": "stream",
          "name": "stdout",
          "text": [
            "-618.13\n",
            "Joe Lopez\n"
          ]
        }
      ]
    },
    {
      "cell_type": "code",
      "source": [
        "import pandas as pd\n",
        "\n",
        "data_frame = pd.read_csv(\"/content/Salaries.csv\")\n",
        "\n",
        "print(data_frame[2014>=data_frame[\"Year\"]][data_frame[\"Year\"]>=2011].groupby(\"Year\")[\"BasePay\"].mean())"
      ],
      "metadata": {
        "colab": {
          "base_uri": "https://localhost:8080/"
        },
        "id": "3PosZSMxrwzY",
        "outputId": "ff24b8a4-ef80-4908-8d0b-ecedcb92f5cf"
      },
      "execution_count": 9,
      "outputs": [
        {
          "output_type": "stream",
          "name": "stdout",
          "text": [
            "Year\n",
            "2011    63595.956517\n",
            "2012    65436.406857\n",
            "2013    69630.030216\n",
            "2014    66564.421924\n",
            "Name: BasePay, dtype: float64\n"
          ]
        }
      ]
    },
    {
      "cell_type": "code",
      "source": [
        "import pandas as pd\n",
        "\n",
        "data_frame = pd.read_csv(\"/content/Salaries.csv\")\n",
        "\n",
        "print(data_frame.groupby(\"JobTitle\").size().count())"
      ],
      "metadata": {
        "colab": {
          "base_uri": "https://localhost:8080/"
        },
        "id": "lzSARWPur2qp",
        "outputId": "798f5a72-8a32-4738-d147-c89cc124a44c"
      },
      "execution_count": 10,
      "outputs": [
        {
          "output_type": "stream",
          "name": "stdout",
          "text": [
            "2159\n"
          ]
        }
      ]
    },
    {
      "cell_type": "code",
      "source": [
        "import pandas as pd\n",
        "\n",
        "data_frame = pd.read_csv(\"/content/Salaries.csv\")\n",
        "\n",
        "counts = data_frame.groupby(\"JobTitle\")[\"EmployeeName\"].count()\n",
        "print(counts.sort_values(ascending=False).head())"
      ],
      "metadata": {
        "colab": {
          "base_uri": "https://localhost:8080/"
        },
        "id": "MMsvTpXar7LQ",
        "outputId": "46e0747e-6c0e-4f29-c69d-935fbf9d05c7"
      },
      "execution_count": 11,
      "outputs": [
        {
          "output_type": "stream",
          "name": "stdout",
          "text": [
            "JobTitle\n",
            "Transit Operator                7036\n",
            "Special Nurse                   4389\n",
            "Registered Nurse                3736\n",
            "Public Svc Aide-Public Works    2518\n",
            "Police Officer 3                2421\n",
            "Name: EmployeeName, dtype: int64\n"
          ]
        }
      ]
    },
    {
      "cell_type": "code",
      "source": [
        "import pandas as pd\n",
        "\n",
        "data_frame = pd.read_csv(\"/content/Salaries.csv\")\n",
        "\n",
        "counts = data_frame[data_frame[\"Year\"]==2013].groupby(\"JobTitle\")[\"EmployeeName\"].count()\n",
        "print(counts[counts==1].value_counts().iloc[0])"
      ],
      "metadata": {
        "colab": {
          "base_uri": "https://localhost:8080/"
        },
        "id": "s6huKTyUsCMz",
        "outputId": "f1809284-b078-4705-c327-a624d1d44317"
      },
      "execution_count": 12,
      "outputs": [
        {
          "output_type": "stream",
          "name": "stdout",
          "text": [
            "202\n"
          ]
        }
      ]
    },
    {
      "cell_type": "code",
      "source": [
        "import pandas as pd\n",
        "\n",
        "data_frame = pd.read_csv(\"/content/Salaries.csv\")\n",
        "\n",
        "print(data_frame[data_frame[\"JobTitle\"].str.contains(\"Chief\")].count()[\"EmployeeName\"])"
      ],
      "metadata": {
        "colab": {
          "base_uri": "https://localhost:8080/"
        },
        "id": "KHcjZhfRsGZM",
        "outputId": "236bf2ae-a59c-43d7-c5f8-3c58b0ea6206"
      },
      "execution_count": 13,
      "outputs": [
        {
          "output_type": "stream",
          "name": "stdout",
          "text": [
            "423\n"
          ]
        }
      ]
    },
    {
      "cell_type": "markdown",
      "source": [
        "bonus"
      ],
      "metadata": {
        "id": "-QIjlDM1sMIf"
      }
    },
    {
      "cell_type": "code",
      "source": [
        "import pandas as pd\n",
        "import matplotlib.pyplot as plt\n",
        "\n",
        "data_frame = pd.read_csv(\"/content/titles.csv\")\n",
        "\n",
        "plt.plot(data_frame.groupby(\"release_year\").size())\n",
        "plt.show()"
      ],
      "metadata": {
        "colab": {
          "base_uri": "https://localhost:8080/",
          "height": 265
        },
        "id": "pf63FcJasNXM",
        "outputId": "678a96b4-a3ad-402e-f107-51a5bcf4d379"
      },
      "execution_count": 14,
      "outputs": [
        {
          "output_type": "display_data",
          "data": {
            "text/plain": [
              "<Figure size 432x288 with 1 Axes>"
            ],
            "image/png": "[encoded data removed]"
          },
          "metadata": {
            "needs_background": "light"
          }
        }
      ]
    },
    {
      "cell_type": "code",
      "source": [
        "import pandas as pd\n",
        "import matplotlib.pyplot as plt\n",
        "\n",
        "data_frame = pd.read_csv(\"/content/titles.csv\")\n",
        "\n",
        "movie_count = data_frame[data_frame[\"type\"]==\"MOVIE\"].count()[\"title\"]\n",
        "show_cuont = data_frame[data_frame[\"type\"]==\"SHOW\"].count()[\"title\"]\n",
        "\n",
        "plt.bar([\"Movies\", \"Shows\"], [movie_count, show_cuont])\n",
        "plt.show()"
      ],
      "metadata": {
        "colab": {
          "base_uri": "https://localhost:8080/",
          "height": 265
        },
        "id": "y7J-3c67sSGj",
        "outputId": "e1854916-cf75-40cc-974b-165aa1ffe0bc"
      },
      "execution_count": 15,
      "outputs": [
        {
          "output_type": "display_data",
          "data": {
            "text/plain": [
              "<Figure size 432x288 with 1 Axes>"
            ],
            "image/png": "[encoded data removed]"
          },
          "metadata": {
            "needs_background": "light"
          }
        }
      ]
    },
    {
      "cell_type": "code",
      "source": [
        "import pandas as pd\n",
        "import numpy as np\n",
        "import matplotlib.pyplot as plt\n",
        "\n",
        "data_frame = pd.read_csv(\"/content/titles.csv\")\n",
        "\n",
        "raw_geners = \"\".join(data_frame[\"genres\"].values)\n",
        "raw_geners = raw_geners.replace(\"[\", \"\")\n",
        "raw_geners = raw_geners.replace(\"]\", \",\")\n",
        "raw_geners = raw_geners.replace(\" \", \"\")\n",
        "raw_geners = raw_geners.replace(\"'\", \"\")\n",
        "genres = pd.DataFrame(raw_geners.split(\",\"))\n",
        "genres.replace('', np.nan, inplace=True)\n",
        "genres.dropna(inplace=True)\n",
        "\n",
        "genres.value_counts().plot.barh()\n",
        "plt.show()\n",
        "\n",
        "\n",
        "top_scores = data_frame.sort_values(by=\"imdb_score\", ascending=False).head()\n",
        "plt.bar(top_scores[\"title\"], top_scores[\"imdb_score\"])\n",
        "plt.show()"
      ],
      "metadata": {
        "colab": {
          "base_uri": "https://localhost:8080/",
          "height": 516
        },
        "id": "gOm2l0i-sZ-j",
        "outputId": "2a4a702f-4fe9-45dc-c137-0159750f240f"
      },
      "execution_count": 17,
      "outputs": [
        {
          "output_type": "display_data",
          "data": {
            "text/plain": [
              "<Figure size 432x288 with 1 Axes>"
            ],
            "image/png": "[encoded data removed]"
          },
          "metadata": {
            "needs_background": "light"
          }
        },
        {
          "output_type": "display_data",
          "data": {
            "text/plain": [
              "<Figure size 432x288 with 1 Axes>"
            ],
            "image/png": "[encoded data removed]"
          },
          "metadata": {
            "needs_background": "light"
          }
        }
      ]
    },
    {
      "cell_type": "code",
      "source": [
        "import pandas as pd\n",
        "import matplotlib.pyplot as plt\n",
        "\n",
        "data_frame = pd.read_csv(\"/content/titles.csv\")\n",
        "\n",
        "us_movies = data_frame[data_frame[\"production_countries\"].str.contains(\"US\")]\n",
        "year_groups = us_movies.groupby(\"release_year\").count()[\"title\"]\n",
        "top_movies = year_groups.sort_values(ascending=False).head(20)\n",
        "top_movies.plot.barh()\n",
        "plt.show()"
      ],
      "metadata": {
        "colab": {
          "base_uri": "https://localhost:8080/",
          "height": 265
        },
        "id": "q0cKUC9Fsonv",
        "outputId": "9a38f67c-b998-4831-d5d2-34d6014537d2"
      },
      "execution_count": 18,
      "outputs": [
        {
          "output_type": "display_data",
          "data": {
            "text/plain": [
              "<Figure size 432x288 with 1 Axes>"
            ],
            "image/png": "[encoded data removed]"
          },
          "metadata": {
            "needs_background": "light"
          }
        }
      ]
    },
    {
      "cell_type": "markdown",
      "source": [
        "hyperbonus"
      ],
      "metadata": {
        "id": "MDWkigW-szDQ"
      }
    },
    {
      "cell_type": "code",
      "source": [
        "import pandas as pd\n",
        "\n",
        "url = \"https://blog.logrocket.com/web-scraping-python-lxml-pandas/\"\n",
        "df = pd.read_html(url)\n",
        "\n",
        "df = df[1]\n",
        "\n",
        "df.to_csv(\"/content/test.csv\")"
      ],
      "metadata": {
        "id": "5OnKenFPs08z"
      },
      "execution_count": 20,
      "outputs": []
    }
  ]
}